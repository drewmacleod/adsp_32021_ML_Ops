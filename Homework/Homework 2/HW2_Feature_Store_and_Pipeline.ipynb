{
 "cells": [
  {
   "cell_type": "code",
   "execution_count": 1,
   "id": "73836cde-9640-4fa4-bbf5-9361da67b25c",
   "metadata": {},
   "outputs": [],
   "source": [
    "import wandb\n",
    "import pandas as pd\n",
    "import numpy as np\n",
    "# from wandb import WandbCallback\n",
    "from sklearn.model_selection import train_test_split\n",
    "\n",
    "# wandb.init(  entity=\"drewmacl-uchicago\", project=\"hw2-experiments\")"
   ]
  },
  {
   "cell_type": "markdown",
   "id": "6b1aa5b8-8f9b-4778-a467-bb2aac5ab64a",
   "metadata": {},
   "source": [
    "## 1) Load in Athletes.csv"
   ]
  },
  {
   "cell_type": "code",
   "execution_count": 2,
   "id": "717df26b-9ff2-4ae3-b742-b518d2ea56b5",
   "metadata": {},
   "outputs": [
    {
     "data": {
      "text/html": [
       "<div>\n",
       "<style scoped>\n",
       "    .dataframe tbody tr th:only-of-type {\n",
       "        vertical-align: middle;\n",
       "    }\n",
       "\n",
       "    .dataframe tbody tr th {\n",
       "        vertical-align: top;\n",
       "    }\n",
       "\n",
       "    .dataframe thead th {\n",
       "        text-align: right;\n",
       "    }\n",
       "</style>\n",
       "<table border=\"1\" class=\"dataframe\">\n",
       "  <thead>\n",
       "    <tr style=\"text-align: right;\">\n",
       "      <th></th>\n",
       "      <th>athlete_id</th>\n",
       "      <th>name</th>\n",
       "      <th>region</th>\n",
       "      <th>team</th>\n",
       "      <th>affiliate</th>\n",
       "      <th>gender</th>\n",
       "      <th>age</th>\n",
       "      <th>height</th>\n",
       "      <th>weight</th>\n",
       "      <th>fran</th>\n",
       "      <th>...</th>\n",
       "      <th>deadlift</th>\n",
       "      <th>backsq</th>\n",
       "      <th>pullups</th>\n",
       "      <th>eat</th>\n",
       "      <th>train</th>\n",
       "      <th>background</th>\n",
       "      <th>experience</th>\n",
       "      <th>schedule</th>\n",
       "      <th>howlong</th>\n",
       "      <th>total_lift</th>\n",
       "    </tr>\n",
       "  </thead>\n",
       "  <tbody>\n",
       "    <tr>\n",
       "      <th>0</th>\n",
       "      <td>2554.0</td>\n",
       "      <td>Pj Ablang</td>\n",
       "      <td>South West</td>\n",
       "      <td>Double Edge</td>\n",
       "      <td>Double Edge CrossFit</td>\n",
       "      <td>Male</td>\n",
       "      <td>24.0</td>\n",
       "      <td>70.0</td>\n",
       "      <td>166.0</td>\n",
       "      <td>NaN</td>\n",
       "      <td>...</td>\n",
       "      <td>400.0</td>\n",
       "      <td>305.0</td>\n",
       "      <td>NaN</td>\n",
       "      <td>NaN</td>\n",
       "      <td>I workout mostly at a CrossFit Affiliate|I hav...</td>\n",
       "      <td>I played youth or high school level sports|I r...</td>\n",
       "      <td>I began CrossFit with a coach (e.g. at an affi...</td>\n",
       "      <td>I do multiple workouts in a day 2x a week|</td>\n",
       "      <td>4+ years|</td>\n",
       "      <td>925.0</td>\n",
       "    </tr>\n",
       "  </tbody>\n",
       "</table>\n",
       "<p>1 rows × 28 columns</p>\n",
       "</div>"
      ],
      "text/plain": [
       "   athlete_id       name      region         team             affiliate  \\\n",
       "0      2554.0  Pj Ablang  South West  Double Edge  Double Edge CrossFit   \n",
       "\n",
       "  gender   age  height  weight  fran  ...  deadlift  backsq  pullups  eat  \\\n",
       "0   Male  24.0    70.0   166.0   NaN  ...     400.0   305.0      NaN  NaN   \n",
       "\n",
       "                                               train  \\\n",
       "0  I workout mostly at a CrossFit Affiliate|I hav...   \n",
       "\n",
       "                                          background  \\\n",
       "0  I played youth or high school level sports|I r...   \n",
       "\n",
       "                                          experience  \\\n",
       "0  I began CrossFit with a coach (e.g. at an affi...   \n",
       "\n",
       "                                     schedule    howlong  total_lift  \n",
       "0  I do multiple workouts in a day 2x a week|  4+ years|       925.0  \n",
       "\n",
       "[1 rows x 28 columns]"
      ]
     },
     "execution_count": 2,
     "metadata": {},
     "output_type": "execute_result"
    }
   ],
   "source": [
    "cols = ['candj','snatch', 'deadlift', 'backsq']\n",
    "data = pd.read_csv('athletes.csv')\n",
    "data['total_lift'] = data[cols].sum(axis=1)\n",
    "data.head(1)"
   ]
  },
  {
   "cell_type": "code",
   "execution_count": 3,
   "id": "2a34b080-5bb7-4e58-8916-129ab859de2d",
   "metadata": {},
   "outputs": [],
   "source": [
    "from sklearn.base import BaseEstimator, TransformerMixin\n",
    "from sklearn.pipeline import Pipeline\n",
    "from sklearn.metrics import mean_squared_error, r2_score, mean_absolute_error\n",
    "from catboost import CatBoostRegressor\n"
   ]
  },
  {
   "cell_type": "markdown",
   "id": "e073ea21-f4b2-4a43-ade7-c77e5dafa4b4",
   "metadata": {},
   "source": [
    "## 2) Use cleaning Pipeline. Have ML pipeline also attached that could be used"
   ]
  },
  {
   "cell_type": "code",
   "execution_count": 4,
   "id": "14c622b8-db33-48b9-93f5-134c761e0bea",
   "metadata": {},
   "outputs": [],
   "source": [
    "# Using ChatGPT-4o along with previous data cleaning from assignemnt 1 and https://www.turing.com/kb/building-ml-pipeline-in-python-with-scikit-learn\n",
    "class DropMissingSubset(BaseEstimator, TransformerMixin):\n",
    "    def __init__(self, subset): self.subset = subset\n",
    "    def fit(self, X, y=None): return self\n",
    "    def transform(self, X): return X.dropna(subset=self.subset).copy()\n",
    "\n",
    "class DropColumns(BaseEstimator, TransformerMixin):\n",
    "    def __init__(self, columns): self.columns = columns\n",
    "    def fit(self, X, y=None): return self\n",
    "    def transform(self, X): return X.drop(columns=self.columns).copy()\n",
    "\n",
    "class FilterOutliers(BaseEstimator, TransformerMixin):\n",
    "    def fit(self, X, y=None): return self\n",
    "    def transform(self, X):\n",
    "        df = X.copy()\n",
    "        df = df[df['weight'] < 1500]\n",
    "        df = df[df['gender'] != '--']\n",
    "        df = df[df['age'] >= 18]\n",
    "        df = df[(df['height'] < 96) & (df['height'] > 48)]\n",
    "        df = df[((df['deadlift'] > 0) & ((df['deadlift'] <= 1105) |\n",
    "               ((df['gender'] == 'Female') & (df['deadlift'] <= 636)))) &\n",
    "                (df['candj'] > 0) & (df['candj'] <= 395) &\n",
    "                (df['snatch'] > 0) & (df['snatch'] <= 496) &\n",
    "                (df['backsq'] > 0) & (df['backsq'] <= 1069)]\n",
    "        return df\n",
    "\n",
    "class CleanSurvey(BaseEstimator, TransformerMixin):\n",
    "    def __init__(self, decline_dict, subset):\n",
    "        self.decline_dict = decline_dict\n",
    "        self.subset = subset\n",
    "    def fit(self, X, y=None): return self\n",
    "    def transform(self, X):\n",
    "        df = X.replace(self.decline_dict).copy()\n",
    "        return df.dropna(subset=self.subset)\n",
    "\n",
    "class DropAllMissing(BaseEstimator, TransformerMixin):\n",
    "    def fit(self, X, y=None): return self\n",
    "    def transform(self, X): return X.dropna().copy()\n",
    "\n",
    "# --- Combine into cleaning pipeline ---\n",
    "cleaning_pipeline = Pipeline([\n",
    "    (\"drop_missing\", DropMissingSubset(subset=[\n",
    "        'region','age','weight','height','howlong','gender','eat','train',\n",
    "        'background','experience','schedule','howlong',\n",
    "        'deadlift','candj','snatch','backsq'\n",
    "    ])),\n",
    "    (\"drop_cols\", DropColumns(columns=[\n",
    "        'affiliate','team','name','fran','helen','grace',\n",
    "        'filthy50','fgonebad','run400','run5k','pullups','train'\n",
    "    ])),\n",
    "    (\"outliers\", FilterOutliers()),\n",
    "    (\"survey\", CleanSurvey(\n",
    "        decline_dict={'Decline to answer|': np.nan},\n",
    "        subset=['background','experience','schedule','howlong','eat']\n",
    "    )),\n",
    "    (\"drop_all_na\", DropAllMissing())\n",
    "])\n",
    "\n",
    "# --- Custom full pipeline including split + model ---\n",
    "class FullCatBoostPipeline:\n",
    "    def __init__(self, cleaning_pipeline, target_col=\"total_lift\", test_size=0.2, random_state=42):\n",
    "        self.cleaning_pipeline = cleaning_pipeline\n",
    "        self.target_col = target_col\n",
    "        self.test_size = test_size\n",
    "        self.random_state = random_state\n",
    "        self.model = None\n",
    "\n",
    "    def fit(self, data):\n",
    "        # Step 1: Clean\n",
    "        cleaned = self.cleaning_pipeline.fit_transform(data)\n",
    "\n",
    "        # Step 2: Separate target\n",
    "        X = cleaned.drop(columns=[self.target_col])\n",
    "        y = cleaned[self.target_col]\n",
    "\n",
    "        # Step 3: Train/test split\n",
    "        X_train, X_test, y_train, y_test = train_test_split(\n",
    "            X, y, test_size=self.test_size, random_state=self.random_state\n",
    "        )\n",
    "\n",
    "        # Step 4: Detect categorical features\n",
    "        categorical_cols = X.select_dtypes(include=[\"object\", \"category\"]).columns.tolist()\n",
    "        self.categorical_cols = categorical_cols\n",
    "\n",
    "        # Step 5: Fit CatBoost\n",
    "        self.model = CatBoostRegressor(\n",
    "            iterations=500,\n",
    "            learning_rate=0.1,\n",
    "            depth=6,\n",
    "            cat_features=categorical_cols,\n",
    "            verbose=0\n",
    "        )\n",
    "        self.model.fit(X_train, y_train)\n",
    "\n",
    "        # Step 6: Evaluate\n",
    "        y_pred = self.model.predict(X_test)\n",
    "        print(f\"MSE: {mean_squared_error(y_test, y_pred):.4f}\")\n",
    "        print(f\"MAE: {mean_absolute_error(y_test, y_pred):.4f}\")\n",
    "        print(f\"R²:  {r2_score(y_test, y_pred):.4f}\")\n",
    "\n",
    "        # Save for later use\n",
    "        self.X_train, self.X_test = X_train, X_test\n",
    "        self.y_train, self.y_test = y_train, y_test\n",
    "        self.y_pred = y_pred\n",
    "\n",
    "    def predict(self, X_new):\n",
    "        return self.model.predict(X_new)\n",
    "\n",
    "    def get_model(self):\n",
    "        return self.model"
   ]
  },
  {
   "cell_type": "code",
   "execution_count": 5,
   "id": "3de8ab10-7e9b-4384-a1ab-e65063218218",
   "metadata": {},
   "outputs": [],
   "source": [
    "data = cleaning_pipeline.fit_transform(data)"
   ]
  },
  {
   "cell_type": "markdown",
   "id": "ea2423a0-1545-49cd-a581-e04cad855873",
   "metadata": {},
   "source": [
    "## 3) Using Feast Feature Store "
   ]
  },
  {
   "cell_type": "code",
   "execution_count": 6,
   "id": "bbbfd352-fd07-4301-96f8-6f441f933195",
   "metadata": {},
   "outputs": [],
   "source": [
    "# Creating feature store with help from: https://pypi.org/project/feast/ and Chat Gpt-4o. Did so within Bash\n",
    "from feast import FeatureStore\n",
    "\n",
    "store = FeatureStore(repo_path=\"hw2_feature_repo/feature_repo\")\n"
   ]
  },
  {
   "cell_type": "markdown",
   "id": "49fdf22b-78e1-4f0d-82a7-cd5c09f3ed9d",
   "metadata": {},
   "source": [
    "## 4) Load data (using this logic in the files within feature_views folder. Differences in versions come from using different subsets"
   ]
  },
  {
   "cell_type": "code",
   "execution_count": 7,
   "id": "6079a390-3b31-4e04-b272-ec5f1698b8d0",
   "metadata": {},
   "outputs": [],
   "source": [
    "from datetime import datetime\n",
    "data[\"event_timestamp\"] = datetime.now()\n",
    "data.to_parquet(\"hw2_feature_repo/feature_repo/data/athlete_features.parquet\", index=False)\n",
    "\n",
    "data_v2 = data[['athlete_id','gender', 'height', 'weight', 'total_lift']].copy()\n",
    "data_v2[\"event_timestamp\"] = datetime.now()\n",
    "data_v2.to_parquet(\"hw2_feature_repo/feature_repo/data/athlete_features_v2.parquet\", index=False)"
   ]
  },
  {
   "cell_type": "code",
   "execution_count": 8,
   "id": "58894009-3305-49bb-b57b-48f9a258147f",
   "metadata": {},
   "outputs": [],
   "source": [
    "# Put into python file feature_views/athlete_features.py\n",
    "\n",
    "# did the same for athlete_features_v2.py\n",
    "\n",
    "# from datetime import datetime\n",
    "# data[\"event_timestamp\"] = datetime.now()\n",
    "# data.to_parquet(\"hw2_feature_repo/feature_repo/data/athlete_features.parquet\", index=False)\n",
    "\n",
    "# from feast import Entity, FeatureView, Field\n",
    "# from feast.types import Float32, Int64, String\n",
    "# from feast.infra.offline_stores.file_source import FileSource\n",
    "\n",
    "# athlete = Entity(\n",
    "#     name=\"athlete_id\",\n",
    "#     join_keys=[\"athlete_id\"],\n",
    "#     # value_type=Int64,\n",
    "#     description=\"Unique athlete identifier\"\n",
    "# )\n",
    "\n",
    "# athlete_source = FileSource(\n",
    "#     path=\"data/athlete_features.parquet\",\n",
    "#     event_timestamp_column=\"event_timestamp\",\n",
    "# )\n",
    "\n",
    "# athlete_features = FeatureView(\n",
    "#     name=\"athlete_features\",\n",
    "#     entities=[athlete],\n",
    "#     ttl=None,\n",
    "#     schema=[\n",
    "#         Field(name=\"gender\", dtype=String),\n",
    "#         Field(name=\"age\", dtype=Float32),\n",
    "#         Field(name=\"height\", dtype=Float32),\n",
    "#         Field(name=\"weight\", dtype=Float32),\n",
    "#         Field(name=\"candj\", dtype=Float32),\n",
    "#         Field(name=\"snatch\", dtype=Float32),\n",
    "#         Field(name=\"deadlift\", dtype=Float32),\n",
    "#         Field(name=\"backsq\", dtype=Float32),\n",
    "#         Field(name=\"eat\", dtype=String),\n",
    "#         Field(name=\"train\", dtype=String),\n",
    "#         Field(name=\"background\", dtype=String),\n",
    "#         Field(name=\"experience\", dtype=String),\n",
    "#         Field(name=\"schedule\", dtype=String),\n",
    "#         Field(name=\"howlong\", dtype=String),\n",
    "#     ],\n",
    "#     source=athlete_source,\n",
    "#     online=True,\n",
    "# )"
   ]
  },
  {
   "cell_type": "code",
   "execution_count": 9,
   "id": "e811ba06-60c6-4adf-b1e9-c15922a6eb01",
   "metadata": {},
   "outputs": [
    {
     "data": {
      "text/html": [
       "<div>\n",
       "<style scoped>\n",
       "    .dataframe tbody tr th:only-of-type {\n",
       "        vertical-align: middle;\n",
       "    }\n",
       "\n",
       "    .dataframe tbody tr th {\n",
       "        vertical-align: top;\n",
       "    }\n",
       "\n",
       "    .dataframe thead th {\n",
       "        text-align: right;\n",
       "    }\n",
       "</style>\n",
       "<table border=\"1\" class=\"dataframe\">\n",
       "  <thead>\n",
       "    <tr style=\"text-align: right;\">\n",
       "      <th></th>\n",
       "      <th>athlete_id</th>\n",
       "      <th>region</th>\n",
       "      <th>gender</th>\n",
       "      <th>age</th>\n",
       "      <th>height</th>\n",
       "      <th>weight</th>\n",
       "      <th>candj</th>\n",
       "      <th>snatch</th>\n",
       "      <th>deadlift</th>\n",
       "      <th>backsq</th>\n",
       "      <th>eat</th>\n",
       "      <th>background</th>\n",
       "      <th>experience</th>\n",
       "      <th>schedule</th>\n",
       "      <th>howlong</th>\n",
       "      <th>total_lift</th>\n",
       "      <th>event_timestamp</th>\n",
       "    </tr>\n",
       "  </thead>\n",
       "  <tbody>\n",
       "    <tr>\n",
       "      <th>21</th>\n",
       "      <td>21269.0</td>\n",
       "      <td>Southern California</td>\n",
       "      <td>Male</td>\n",
       "      <td>30.0</td>\n",
       "      <td>71.0</td>\n",
       "      <td>200.0</td>\n",
       "      <td>235.0</td>\n",
       "      <td>175.0</td>\n",
       "      <td>385.0</td>\n",
       "      <td>315.0</td>\n",
       "      <td>I eat whatever is convenient|</td>\n",
       "      <td>I played youth or high school level sports|I p...</td>\n",
       "      <td>I began CrossFit by trying it alone (without a...</td>\n",
       "      <td>I do multiple workouts in a day 1x a week|I ty...</td>\n",
       "      <td>1-2 years|</td>\n",
       "      <td>1110.0</td>\n",
       "      <td>2025-07-17 16:58:25.943233</td>\n",
       "    </tr>\n",
       "  </tbody>\n",
       "</table>\n",
       "</div>"
      ],
      "text/plain": [
       "    athlete_id               region gender   age  height  weight  candj  \\\n",
       "21     21269.0  Southern California   Male  30.0    71.0   200.0  235.0   \n",
       "\n",
       "    snatch  deadlift  backsq                            eat  \\\n",
       "21   175.0     385.0   315.0  I eat whatever is convenient|   \n",
       "\n",
       "                                           background  \\\n",
       "21  I played youth or high school level sports|I p...   \n",
       "\n",
       "                                           experience  \\\n",
       "21  I began CrossFit by trying it alone (without a...   \n",
       "\n",
       "                                             schedule     howlong  total_lift  \\\n",
       "21  I do multiple workouts in a day 1x a week|I ty...  1-2 years|      1110.0   \n",
       "\n",
       "              event_timestamp  \n",
       "21 2025-07-17 16:58:25.943233  "
      ]
     },
     "execution_count": 9,
     "metadata": {},
     "output_type": "execute_result"
    }
   ],
   "source": [
    "data.head(1)"
   ]
  },
  {
   "cell_type": "code",
   "execution_count": 10,
   "id": "08b03151-db88-48a2-a047-ba23b5efa53b",
   "metadata": {},
   "outputs": [
    {
     "data": {
      "text/plain": [
       "(30015, 17)"
      ]
     },
     "execution_count": 10,
     "metadata": {},
     "output_type": "execute_result"
    }
   ],
   "source": [
    "data.shape"
   ]
  },
  {
   "cell_type": "code",
   "execution_count": 11,
   "id": "b711f3df-49ae-4b37-b4dd-fb7ec2c31b5f",
   "metadata": {},
   "outputs": [
    {
     "data": {
      "text/html": [
       "<div>\n",
       "<style scoped>\n",
       "    .dataframe tbody tr th:only-of-type {\n",
       "        vertical-align: middle;\n",
       "    }\n",
       "\n",
       "    .dataframe tbody tr th {\n",
       "        vertical-align: top;\n",
       "    }\n",
       "\n",
       "    .dataframe thead th {\n",
       "        text-align: right;\n",
       "    }\n",
       "</style>\n",
       "<table border=\"1\" class=\"dataframe\">\n",
       "  <thead>\n",
       "    <tr style=\"text-align: right;\">\n",
       "      <th></th>\n",
       "      <th>athlete_id</th>\n",
       "      <th>gender</th>\n",
       "      <th>height</th>\n",
       "      <th>weight</th>\n",
       "      <th>total_lift</th>\n",
       "      <th>event_timestamp</th>\n",
       "    </tr>\n",
       "  </thead>\n",
       "  <tbody>\n",
       "    <tr>\n",
       "      <th>21</th>\n",
       "      <td>21269.0</td>\n",
       "      <td>Male</td>\n",
       "      <td>71.0</td>\n",
       "      <td>200.0</td>\n",
       "      <td>1110.0</td>\n",
       "      <td>2025-07-17 16:58:25.976887</td>\n",
       "    </tr>\n",
       "  </tbody>\n",
       "</table>\n",
       "</div>"
      ],
      "text/plain": [
       "    athlete_id gender  height  weight  total_lift            event_timestamp\n",
       "21     21269.0   Male    71.0   200.0      1110.0 2025-07-17 16:58:25.976887"
      ]
     },
     "execution_count": 11,
     "metadata": {},
     "output_type": "execute_result"
    }
   ],
   "source": [
    "data_v2.head(1)"
   ]
  },
  {
   "cell_type": "code",
   "execution_count": 12,
   "id": "4e868a01-a11e-4a4f-bace-d406cf0eb54d",
   "metadata": {},
   "outputs": [
    {
     "data": {
      "text/plain": [
       "(30015, 6)"
      ]
     },
     "execution_count": 12,
     "metadata": {},
     "output_type": "execute_result"
    }
   ],
   "source": [
    "data_v2.shape"
   ]
  },
  {
   "cell_type": "code",
   "execution_count": 13,
   "id": "345f8207-c70a-4a95-a593-3ab41af3c7f2",
   "metadata": {},
   "outputs": [],
   "source": [
    "entity_df = data[['athlete_id', 'event_timestamp']]\n",
    "entity_df2 = data_v2[['athlete_id', 'event_timestamp']]"
   ]
  },
  {
   "cell_type": "markdown",
   "id": "9660e264-7786-4001-9d28-1239c13f95b9",
   "metadata": {},
   "source": [
    "## 5a) Created 2 different versions of features"
   ]
  },
  {
   "cell_type": "code",
   "execution_count": 14,
   "id": "0378d41a-2d4b-448b-a928-d24ebc0b725e",
   "metadata": {},
   "outputs": [
    {
     "data": {
      "text/html": [
       "<div>\n",
       "<style scoped>\n",
       "    .dataframe tbody tr th:only-of-type {\n",
       "        vertical-align: middle;\n",
       "    }\n",
       "\n",
       "    .dataframe tbody tr th {\n",
       "        vertical-align: top;\n",
       "    }\n",
       "\n",
       "    .dataframe thead th {\n",
       "        text-align: right;\n",
       "    }\n",
       "</style>\n",
       "<table border=\"1\" class=\"dataframe\">\n",
       "  <thead>\n",
       "    <tr style=\"text-align: right;\">\n",
       "      <th></th>\n",
       "      <th>athlete_id</th>\n",
       "      <th>event_timestamp</th>\n",
       "      <th>gender</th>\n",
       "      <th>candj</th>\n",
       "      <th>snatch</th>\n",
       "      <th>deadlift</th>\n",
       "      <th>backsq</th>\n",
       "      <th>eat</th>\n",
       "      <th>background</th>\n",
       "      <th>experience</th>\n",
       "      <th>schedule</th>\n",
       "      <th>howlong</th>\n",
       "      <th>total_lift</th>\n",
       "    </tr>\n",
       "  </thead>\n",
       "  <tbody>\n",
       "    <tr>\n",
       "      <th>0</th>\n",
       "      <td>21269.0</td>\n",
       "      <td>2025-07-17 16:58:25.943233+00:00</td>\n",
       "      <td>Male</td>\n",
       "      <td>235.0</td>\n",
       "      <td>175.0</td>\n",
       "      <td>385.0</td>\n",
       "      <td>315.0</td>\n",
       "      <td>I eat whatever is convenient|</td>\n",
       "      <td>I played youth or high school level sports|I p...</td>\n",
       "      <td>I began CrossFit by trying it alone (without a...</td>\n",
       "      <td>I do multiple workouts in a day 1x a week|I ty...</td>\n",
       "      <td>1-2 years|</td>\n",
       "      <td>1110.0</td>\n",
       "    </tr>\n",
       "    <tr>\n",
       "      <th>1</th>\n",
       "      <td>209747.0</td>\n",
       "      <td>2025-07-17 16:58:25.943233+00:00</td>\n",
       "      <td>Male</td>\n",
       "      <td>165.0</td>\n",
       "      <td>145.0</td>\n",
       "      <td>300.0</td>\n",
       "      <td>245.0</td>\n",
       "      <td>I eat quality foods but don't measure the amount|</td>\n",
       "      <td>I have no athletic background besides CrossFit|</td>\n",
       "      <td>I began CrossFit with a coach (e.g. at an affi...</td>\n",
       "      <td>I usually only do 1 workout a day|</td>\n",
       "      <td>1-2 years|</td>\n",
       "      <td>855.0</td>\n",
       "    </tr>\n",
       "    <tr>\n",
       "      <th>2</th>\n",
       "      <td>537592.0</td>\n",
       "      <td>2025-07-17 16:58:25.943233+00:00</td>\n",
       "      <td>Male</td>\n",
       "      <td>155.0</td>\n",
       "      <td>105.0</td>\n",
       "      <td>275.0</td>\n",
       "      <td>205.0</td>\n",
       "      <td>I eat quality foods but don't measure the amount|</td>\n",
       "      <td>I played youth or high school level sports|I r...</td>\n",
       "      <td>I began CrossFit with a coach (e.g. at an affi...</td>\n",
       "      <td>I usually only do 1 workout a day|</td>\n",
       "      <td>6-12 months|</td>\n",
       "      <td>740.0</td>\n",
       "    </tr>\n",
       "    <tr>\n",
       "      <th>3</th>\n",
       "      <td>496716.0</td>\n",
       "      <td>2025-07-17 16:58:25.943233+00:00</td>\n",
       "      <td>Male</td>\n",
       "      <td>176.0</td>\n",
       "      <td>99.0</td>\n",
       "      <td>265.0</td>\n",
       "      <td>220.0</td>\n",
       "      <td>I eat quality foods but don't measure the amou...</td>\n",
       "      <td>I have no athletic background besides CrossFit|</td>\n",
       "      <td>I began CrossFit with a coach (e.g. at an affi...</td>\n",
       "      <td>I usually only do 1 workout a day|</td>\n",
       "      <td>Less than 6 months|</td>\n",
       "      <td>760.0</td>\n",
       "    </tr>\n",
       "    <tr>\n",
       "      <th>4</th>\n",
       "      <td>272938.0</td>\n",
       "      <td>2025-07-17 16:58:25.943233+00:00</td>\n",
       "      <td>Male</td>\n",
       "      <td>165.0</td>\n",
       "      <td>121.0</td>\n",
       "      <td>298.0</td>\n",
       "      <td>209.0</td>\n",
       "      <td>I eat quality foods but don't measure the amou...</td>\n",
       "      <td>I played professional sports|I regularly play ...</td>\n",
       "      <td>I began CrossFit by trying it alone (without a...</td>\n",
       "      <td>I usually only do 1 workout a day|I do multipl...</td>\n",
       "      <td>6-12 months|</td>\n",
       "      <td>793.0</td>\n",
       "    </tr>\n",
       "  </tbody>\n",
       "</table>\n",
       "</div>"
      ],
      "text/plain": [
       "   athlete_id                  event_timestamp gender  candj  snatch  \\\n",
       "0     21269.0 2025-07-17 16:58:25.943233+00:00   Male  235.0   175.0   \n",
       "1    209747.0 2025-07-17 16:58:25.943233+00:00   Male  165.0   145.0   \n",
       "2    537592.0 2025-07-17 16:58:25.943233+00:00   Male  155.0   105.0   \n",
       "3    496716.0 2025-07-17 16:58:25.943233+00:00   Male  176.0    99.0   \n",
       "4    272938.0 2025-07-17 16:58:25.943233+00:00   Male  165.0   121.0   \n",
       "\n",
       "   deadlift  backsq                                                eat  \\\n",
       "0     385.0   315.0                      I eat whatever is convenient|   \n",
       "1     300.0   245.0  I eat quality foods but don't measure the amount|   \n",
       "2     275.0   205.0  I eat quality foods but don't measure the amount|   \n",
       "3     265.0   220.0  I eat quality foods but don't measure the amou...   \n",
       "4     298.0   209.0  I eat quality foods but don't measure the amou...   \n",
       "\n",
       "                                          background  \\\n",
       "0  I played youth or high school level sports|I p...   \n",
       "1    I have no athletic background besides CrossFit|   \n",
       "2  I played youth or high school level sports|I r...   \n",
       "3    I have no athletic background besides CrossFit|   \n",
       "4  I played professional sports|I regularly play ...   \n",
       "\n",
       "                                          experience  \\\n",
       "0  I began CrossFit by trying it alone (without a...   \n",
       "1  I began CrossFit with a coach (e.g. at an affi...   \n",
       "2  I began CrossFit with a coach (e.g. at an affi...   \n",
       "3  I began CrossFit with a coach (e.g. at an affi...   \n",
       "4  I began CrossFit by trying it alone (without a...   \n",
       "\n",
       "                                            schedule              howlong  \\\n",
       "0  I do multiple workouts in a day 1x a week|I ty...           1-2 years|   \n",
       "1                 I usually only do 1 workout a day|           1-2 years|   \n",
       "2                 I usually only do 1 workout a day|         6-12 months|   \n",
       "3                 I usually only do 1 workout a day|  Less than 6 months|   \n",
       "4  I usually only do 1 workout a day|I do multipl...         6-12 months|   \n",
       "\n",
       "   total_lift  \n",
       "0      1110.0  \n",
       "1       855.0  \n",
       "2       740.0  \n",
       "3       760.0  \n",
       "4       793.0  "
      ]
     },
     "execution_count": 14,
     "metadata": {},
     "output_type": "execute_result"
    }
   ],
   "source": [
    "training_df_v1 = store.get_historical_features(\n",
    "    entity_df=entity_df,\n",
    "    features=[\n",
    "        \"athlete_features:gender\",\n",
    "        \"athlete_features:candj\",\n",
    "        \"athlete_features:snatch\",\n",
    "        \"athlete_features:deadlift\",\n",
    "        \"athlete_features:backsq\",\n",
    "        \"athlete_features:eat\",\n",
    "        \"athlete_features:background\",\n",
    "        \"athlete_features:experience\",\n",
    "        \"athlete_features:schedule\",\n",
    "        \"athlete_features:howlong\",\n",
    "        \"athlete_features:total_lift\",\n",
    "    ]\n",
    ").to_df()\n",
    "\n",
    "training_df_v1.head()"
   ]
  },
  {
   "cell_type": "code",
   "execution_count": 15,
   "id": "c3ed31b2-25a3-45d5-a0e8-d057845dd0be",
   "metadata": {},
   "outputs": [
    {
     "data": {
      "text/html": [
       "<div>\n",
       "<style scoped>\n",
       "    .dataframe tbody tr th:only-of-type {\n",
       "        vertical-align: middle;\n",
       "    }\n",
       "\n",
       "    .dataframe tbody tr th {\n",
       "        vertical-align: top;\n",
       "    }\n",
       "\n",
       "    .dataframe thead th {\n",
       "        text-align: right;\n",
       "    }\n",
       "</style>\n",
       "<table border=\"1\" class=\"dataframe\">\n",
       "  <thead>\n",
       "    <tr style=\"text-align: right;\">\n",
       "      <th></th>\n",
       "      <th>athlete_id</th>\n",
       "      <th>event_timestamp</th>\n",
       "      <th>gender</th>\n",
       "      <th>height</th>\n",
       "      <th>weight</th>\n",
       "      <th>total_lift</th>\n",
       "    </tr>\n",
       "  </thead>\n",
       "  <tbody>\n",
       "    <tr>\n",
       "      <th>0</th>\n",
       "      <td>21269.0</td>\n",
       "      <td>2025-07-17 16:58:25.976887+00:00</td>\n",
       "      <td>Male</td>\n",
       "      <td>71.0</td>\n",
       "      <td>200.0</td>\n",
       "      <td>1110.0</td>\n",
       "    </tr>\n",
       "    <tr>\n",
       "      <th>1</th>\n",
       "      <td>209747.0</td>\n",
       "      <td>2025-07-17 16:58:25.976887+00:00</td>\n",
       "      <td>Male</td>\n",
       "      <td>72.0</td>\n",
       "      <td>203.0</td>\n",
       "      <td>855.0</td>\n",
       "    </tr>\n",
       "    <tr>\n",
       "      <th>2</th>\n",
       "      <td>537592.0</td>\n",
       "      <td>2025-07-17 16:58:25.976887+00:00</td>\n",
       "      <td>Male</td>\n",
       "      <td>70.0</td>\n",
       "      <td>195.0</td>\n",
       "      <td>740.0</td>\n",
       "    </tr>\n",
       "    <tr>\n",
       "      <th>3</th>\n",
       "      <td>496716.0</td>\n",
       "      <td>2025-07-17 16:58:25.976887+00:00</td>\n",
       "      <td>Male</td>\n",
       "      <td>71.0</td>\n",
       "      <td>167.0</td>\n",
       "      <td>760.0</td>\n",
       "    </tr>\n",
       "    <tr>\n",
       "      <th>4</th>\n",
       "      <td>272938.0</td>\n",
       "      <td>2025-07-17 16:58:25.976887+00:00</td>\n",
       "      <td>Male</td>\n",
       "      <td>72.0</td>\n",
       "      <td>167.0</td>\n",
       "      <td>793.0</td>\n",
       "    </tr>\n",
       "  </tbody>\n",
       "</table>\n",
       "</div>"
      ],
      "text/plain": [
       "   athlete_id                  event_timestamp gender  height  weight  \\\n",
       "0     21269.0 2025-07-17 16:58:25.976887+00:00   Male    71.0   200.0   \n",
       "1    209747.0 2025-07-17 16:58:25.976887+00:00   Male    72.0   203.0   \n",
       "2    537592.0 2025-07-17 16:58:25.976887+00:00   Male    70.0   195.0   \n",
       "3    496716.0 2025-07-17 16:58:25.976887+00:00   Male    71.0   167.0   \n",
       "4    272938.0 2025-07-17 16:58:25.976887+00:00   Male    72.0   167.0   \n",
       "\n",
       "   total_lift  \n",
       "0      1110.0  \n",
       "1       855.0  \n",
       "2       740.0  \n",
       "3       760.0  \n",
       "4       793.0  "
      ]
     },
     "execution_count": 15,
     "metadata": {},
     "output_type": "execute_result"
    }
   ],
   "source": [
    "# V2 has limited number of features. \n",
    "training_df_v2 = store.get_historical_features(\n",
    "    entity_df=entity_df2,\n",
    "    features=[\n",
    "        \"athlete_features_v2:gender\",\n",
    "        \"athlete_features_v2:height\",\n",
    "        \"athlete_features_v2:weight\",\n",
    "        \"athlete_features_v2:total_lift\",\n",
    "    ]\n",
    ").to_df()\n",
    "\n",
    "training_df_v2.head()"
   ]
  },
  {
   "cell_type": "markdown",
   "id": "5a37b1ff-c64b-46d5-9f3e-90192966f763",
   "metadata": {},
   "source": [
    "## 5b) Train algorithm with 2 different versions of features"
   ]
  },
  {
   "cell_type": "code",
   "execution_count": 16,
   "id": "f69bdc81-1e83-486f-a86d-27571fb87953",
   "metadata": {},
   "outputs": [],
   "source": [
    "# using chat-gpt4-o for help"
   ]
  },
  {
   "cell_type": "code",
   "execution_count": 17,
   "id": "7a33e441-5e0c-4d92-8241-768dcb8eb6d3",
   "metadata": {},
   "outputs": [],
   "source": [
    "class FullCatBoostPipeline:\n",
    "    def __init__(self,target_col=\"total_lift\", test_size=0.2, random_state=42, catboost_params=None):\n",
    "        self.target_col = target_col\n",
    "        self.test_size = test_size\n",
    "        self.random_state = random_state\n",
    "        self.catboost_params = catboost_params or {\n",
    "            \"iterations\": 500,\n",
    "            \"learning_rate\": 0.1,\n",
    "            \"depth\": 6,\n",
    "            \"verbose\": 0\n",
    "        }\n",
    "        self.model = None\n",
    "\n",
    "    def fit(self, data):\n",
    "\n",
    "        X = data.drop(columns=[self.target_col, 'event_timestamp'])\n",
    "        y = data[self.target_col]\n",
    "\n",
    "        X_train, X_test, y_train, y_test = train_test_split(\n",
    "            X, y, test_size=self.test_size, random_state=self.random_state\n",
    "        )\n",
    "\n",
    "        categorical_cols = X.select_dtypes(include=[\"object\", \"category\"]).columns.tolist()\n",
    "        self.categorical_cols = categorical_cols\n",
    "\n",
    "        self.model = CatBoostRegressor(\n",
    "            cat_features=categorical_cols,\n",
    "            **self.catboost_params\n",
    "        )\n",
    "        self.model.fit(X_train, y_train)\n",
    "\n",
    "        y_pred = self.model.predict(X_test)\n",
    "        print(f\"MSE: {mean_squared_error(y_test, y_pred):.4f}\")\n",
    "        print(f\"MAE: {mean_absolute_error(y_test, y_pred):.4f}\")\n",
    "        print(f\"R²:  {r2_score(y_test, y_pred):.4f}\")\n",
    "\n",
    "        self.X_train, self.X_test = X_train, X_test\n",
    "        self.y_train, self.y_test = y_train, y_test\n",
    "        self.y_pred = y_pred"
   ]
  },
  {
   "cell_type": "code",
   "execution_count": 18,
   "id": "bb9b664e-c241-46b2-9de8-d9e3db8ca652",
   "metadata": {},
   "outputs": [],
   "source": [
    "feature_versions = {\n",
    "    \"v1_more_columns\": training_df_v1,\n",
    "    \"v2_age_height_gender\": training_df_v2\n",
    "}\n",
    "\n",
    "param_sets = [\n",
    "    {\"iterations\": 300, \"learning_rate\": 0.05, \"depth\": 4, \"verbose\": 0},\n",
    "    {\"iterations\": 600, \"learning_rate\": 0.1, \"depth\": 6, \"verbose\": 0}\n",
    "]"
   ]
  },
  {
   "cell_type": "code",
   "execution_count": 19,
   "id": "19676c31-b6a6-4885-ac2e-8331823d3ab9",
   "metadata": {},
   "outputs": [
    {
     "name": "stderr",
     "output_type": "stream",
     "text": [
      "\u001b[34m\u001b[1mwandb\u001b[0m: \u001b[33mWARNING\u001b[0m WANDB_NOTEBOOK_NAME should be a path to a notebook file, couldn't find debug_notebook.\n",
      "\u001b[34m\u001b[1mwandb\u001b[0m: Currently logged in as: \u001b[33mdrewmacl\u001b[0m (\u001b[33mdrewmacl-uchicago\u001b[0m) to \u001b[32mhttps://api.wandb.ai\u001b[0m. Use \u001b[1m`wandb login --relogin`\u001b[0m to force relogin\n"
     ]
    },
    {
     "data": {
      "text/plain": [
       "True"
      ]
     },
     "execution_count": 19,
     "metadata": {},
     "output_type": "execute_result"
    }
   ],
   "source": [
    "import os\n",
    "os.environ[\"WANDB_NOTEBOOK_NAME\"] = \"debug_notebook\"\n",
    "os.environ[\"WANDB_MODE\"] = \"online\"  # force online sync\n",
    "\n",
    "import wandb\n",
    "wandb.login()  # or wandb.login(key=\"your-key\")"
   ]
  },
  {
   "cell_type": "code",
   "execution_count": 24,
   "id": "3458f2fd-ff15-491a-bac2-4685285fd832",
   "metadata": {},
   "outputs": [],
   "source": [
    "from codecarbon import EmissionsTracker"
   ]
  },
  {
   "cell_type": "code",
   "execution_count": 26,
   "id": "10170008-ee99-4863-8019-f15f289ed158",
   "metadata": {},
   "outputs": [
    {
     "name": "stderr",
     "output_type": "stream",
     "text": [
      "/opt/anaconda3/envs/tf-privacy/lib/python3.10/site-packages/wandb/analytics/sentry.py:258: DeprecationWarning: The `Scope.user` setter is deprecated in favor of `Scope.set_user()`.\n",
      "  self.scope.user = {\"email\": email}\n",
      "/opt/anaconda3/envs/tf-privacy/lib/python3.10/site-packages/wandb/analytics/sentry.py:258: DeprecationWarning: The `Scope.user` setter is deprecated in favor of `Scope.set_user()`.\n",
      "  self.scope.user = {\"email\": email}\n"
     ]
    },
    {
     "data": {
      "text/html": [
       "Tracking run with wandb version 0.21.0"
      ],
      "text/plain": [
       "<IPython.core.display.HTML object>"
      ]
     },
     "metadata": {},
     "output_type": "display_data"
    },
    {
     "data": {
      "text/html": [
       "Run data is saved locally in <code>/Users/drewmacl/Documents/U Chicago/Summer_2025/Machine Learning Operations/GitHub/Homework/Homework 2/wandb/run-20250717_170459-npvzahjc</code>"
      ],
      "text/plain": [
       "<IPython.core.display.HTML object>"
      ]
     },
     "metadata": {},
     "output_type": "display_data"
    },
    {
     "data": {
      "text/html": [
       "Syncing run <strong><a href='https://wandb.ai/drewmacl-uchicago/hw2-feature-versioning/runs/npvzahjc' target=\"_blank\">catboost_v1_more_columns_hp1</a></strong> to <a href='https://wandb.ai/drewmacl-uchicago/hw2-feature-versioning' target=\"_blank\">Weights & Biases</a> (<a href='https://wandb.me/developer-guide' target=\"_blank\">docs</a>)<br>"
      ],
      "text/plain": [
       "<IPython.core.display.HTML object>"
      ]
     },
     "metadata": {},
     "output_type": "display_data"
    },
    {
     "data": {
      "text/html": [
       " View project at <a href='https://wandb.ai/drewmacl-uchicago/hw2-feature-versioning' target=\"_blank\">https://wandb.ai/drewmacl-uchicago/hw2-feature-versioning</a>"
      ],
      "text/plain": [
       "<IPython.core.display.HTML object>"
      ]
     },
     "metadata": {},
     "output_type": "display_data"
    },
    {
     "data": {
      "text/html": [
       " View run at <a href='https://wandb.ai/drewmacl-uchicago/hw2-feature-versioning/runs/npvzahjc' target=\"_blank\">https://wandb.ai/drewmacl-uchicago/hw2-feature-versioning/runs/npvzahjc</a>"
      ],
      "text/plain": [
       "<IPython.core.display.HTML object>"
      ]
     },
     "metadata": {},
     "output_type": "display_data"
    },
    {
     "name": "stderr",
     "output_type": "stream",
     "text": [
      "[codecarbon WARNING @ 17:05:00] Multiple instances of codecarbon are allowed to run at the same time.\n",
      "[codecarbon WARNING @ 17:05:00] Error while trying to count physical CPUs: [Errno 2] No such file or directory: 'lscpu'. Defaulting to 1.\n",
      "[codecarbon INFO @ 17:05:00] [setup] RAM Tracking...\n",
      "[codecarbon INFO @ 17:05:00] [setup] CPU Tracking...\n",
      "[codecarbon WARNING @ 17:05:00] No CPU tracking mode found. Falling back on estimation based on TDP for CPU. \n",
      " Mac OS and ARM processor detected: Please enable PowerMetrics sudo to measure CPU\n",
      "\n",
      "[codecarbon INFO @ 17:05:00] CPU Model on constant consumption mode: Apple M1\n",
      "[codecarbon WARNING @ 17:05:00] No CPU tracking mode found. Falling back on CPU constant mode.\n",
      "[codecarbon INFO @ 17:05:00] [setup] GPU Tracking...\n",
      "[codecarbon INFO @ 17:05:00] No GPU found.\n",
      "[codecarbon INFO @ 17:05:00] The below tracking methods have been set up:\n",
      "                RAM Tracking Method: RAM power estimation model\n",
      "                CPU Tracking Method: global constant\n",
      "                GPU Tracking Method: Unspecified\n",
      "            \n",
      "[codecarbon INFO @ 17:05:00] >>> Tracker's metadata:\n",
      "[codecarbon INFO @ 17:05:00]   Platform system: macOS-13.5.2-arm64-arm-64bit\n",
      "[codecarbon INFO @ 17:05:00]   Python version: 3.10.18\n",
      "[codecarbon INFO @ 17:05:00]   CodeCarbon version: 3.0.4\n",
      "[codecarbon INFO @ 17:05:00]   Available RAM : 16.000 GB\n",
      "[codecarbon INFO @ 17:05:00]   CPU count: 8 thread(s) in 1 physical CPU(s)\n",
      "[codecarbon INFO @ 17:05:00]   CPU model: Apple M1\n",
      "[codecarbon INFO @ 17:05:00]   GPU count: None\n",
      "[codecarbon INFO @ 17:05:00]   GPU model: None\n",
      "[codecarbon INFO @ 17:05:01] Emissions data (if any) will be saved to file /Users/drewmacl/Documents/U Chicago/Summer_2025/Machine Learning Operations/GitHub/Homework/Homework 2/emissions.csv\n",
      "[codecarbon INFO @ 17:05:03] Energy consumed for RAM : 0.000001 kWh. RAM Power : 3.0 W\n",
      "[codecarbon INFO @ 17:05:03] Delta energy consumed for CPU with constant : 0.000002 kWh, power : 5.0 W\n",
      "[codecarbon INFO @ 17:05:03] Energy consumed for All CPU : 0.000002 kWh\n",
      "[codecarbon INFO @ 17:05:03] 0.000003 kWh of electricity used since the beginning.\n"
     ]
    },
    {
     "name": "stdout",
     "output_type": "stream",
     "text": [
      "MSE: 35.6330\n",
      "MAE: 4.5134\n",
      "R²:  0.9995\n"
     ]
    },
    {
     "data": {
      "text/html": [],
      "text/plain": [
       "<IPython.core.display.HTML object>"
      ]
     },
     "metadata": {},
     "output_type": "display_data"
    },
    {
     "data": {
      "text/html": [
       "<br>    <style><br>        .wandb-row {<br>            display: flex;<br>            flex-direction: row;<br>            flex-wrap: wrap;<br>            justify-content: flex-start;<br>            width: 100%;<br>        }<br>        .wandb-col {<br>            display: flex;<br>            flex-direction: column;<br>            flex-basis: 100%;<br>            flex: 1;<br>            padding: 10px;<br>        }<br>    </style><br><div class=\"wandb-row\"><div class=\"wandb-col\"><h3>Run history:</h3><br/><table class=\"wandb\"><tr><td>carbon_emissions_kg</td><td>▁</td></tr><tr><td>mae</td><td>▁</td></tr><tr><td>mse</td><td>▁</td></tr><tr><td>r2</td><td>▁</td></tr></table><br/></div><div class=\"wandb-col\"><h3>Run summary:</h3><br/><table class=\"wandb\"><tr><td>carbon_emissions_kg</td><td>0.0</td></tr><tr><td>mae</td><td>4.5134</td></tr><tr><td>mse</td><td>35.63302</td></tr><tr><td>r2</td><td>0.99955</td></tr></table><br/></div></div>"
      ],
      "text/plain": [
       "<IPython.core.display.HTML object>"
      ]
     },
     "metadata": {},
     "output_type": "display_data"
    },
    {
     "data": {
      "text/html": [
       " View run <strong style=\"color:#cdcd00\">catboost_v1_more_columns_hp1</strong> at: <a href='https://wandb.ai/drewmacl-uchicago/hw2-feature-versioning/runs/npvzahjc' target=\"_blank\">https://wandb.ai/drewmacl-uchicago/hw2-feature-versioning/runs/npvzahjc</a><br> View project at: <a href='https://wandb.ai/drewmacl-uchicago/hw2-feature-versioning' target=\"_blank\">https://wandb.ai/drewmacl-uchicago/hw2-feature-versioning</a><br>Synced 5 W&B file(s), 0 media file(s), 0 artifact file(s) and 0 other file(s)"
      ],
      "text/plain": [
       "<IPython.core.display.HTML object>"
      ]
     },
     "metadata": {},
     "output_type": "display_data"
    },
    {
     "data": {
      "text/html": [
       "Find logs at: <code>./wandb/run-20250717_170459-npvzahjc/logs</code>"
      ],
      "text/plain": [
       "<IPython.core.display.HTML object>"
      ]
     },
     "metadata": {},
     "output_type": "display_data"
    },
    {
     "name": "stderr",
     "output_type": "stream",
     "text": [
      "/opt/anaconda3/envs/tf-privacy/lib/python3.10/site-packages/wandb/analytics/sentry.py:258: DeprecationWarning: The `Scope.user` setter is deprecated in favor of `Scope.set_user()`.\n",
      "  self.scope.user = {\"email\": email}\n",
      "/opt/anaconda3/envs/tf-privacy/lib/python3.10/site-packages/wandb/analytics/sentry.py:258: DeprecationWarning: The `Scope.user` setter is deprecated in favor of `Scope.set_user()`.\n",
      "  self.scope.user = {\"email\": email}\n"
     ]
    },
    {
     "data": {
      "text/html": [
       "Tracking run with wandb version 0.21.0"
      ],
      "text/plain": [
       "<IPython.core.display.HTML object>"
      ]
     },
     "metadata": {},
     "output_type": "display_data"
    },
    {
     "data": {
      "text/html": [
       "Run data is saved locally in <code>/Users/drewmacl/Documents/U Chicago/Summer_2025/Machine Learning Operations/GitHub/Homework/Homework 2/wandb/run-20250717_170503-j0ai89tf</code>"
      ],
      "text/plain": [
       "<IPython.core.display.HTML object>"
      ]
     },
     "metadata": {},
     "output_type": "display_data"
    },
    {
     "data": {
      "text/html": [
       "Syncing run <strong><a href='https://wandb.ai/drewmacl-uchicago/hw2-feature-versioning/runs/j0ai89tf' target=\"_blank\">catboost_v1_more_columns_hp2</a></strong> to <a href='https://wandb.ai/drewmacl-uchicago/hw2-feature-versioning' target=\"_blank\">Weights & Biases</a> (<a href='https://wandb.me/developer-guide' target=\"_blank\">docs</a>)<br>"
      ],
      "text/plain": [
       "<IPython.core.display.HTML object>"
      ]
     },
     "metadata": {},
     "output_type": "display_data"
    },
    {
     "data": {
      "text/html": [
       " View project at <a href='https://wandb.ai/drewmacl-uchicago/hw2-feature-versioning' target=\"_blank\">https://wandb.ai/drewmacl-uchicago/hw2-feature-versioning</a>"
      ],
      "text/plain": [
       "<IPython.core.display.HTML object>"
      ]
     },
     "metadata": {},
     "output_type": "display_data"
    },
    {
     "data": {
      "text/html": [
       " View run at <a href='https://wandb.ai/drewmacl-uchicago/hw2-feature-versioning/runs/j0ai89tf' target=\"_blank\">https://wandb.ai/drewmacl-uchicago/hw2-feature-versioning/runs/j0ai89tf</a>"
      ],
      "text/plain": [
       "<IPython.core.display.HTML object>"
      ]
     },
     "metadata": {},
     "output_type": "display_data"
    },
    {
     "name": "stderr",
     "output_type": "stream",
     "text": [
      "[codecarbon WARNING @ 17:05:04] Multiple instances of codecarbon are allowed to run at the same time.\n",
      "[codecarbon WARNING @ 17:05:04] Error while trying to count physical CPUs: [Errno 2] No such file or directory: 'lscpu'. Defaulting to 1.\n",
      "[codecarbon INFO @ 17:05:04] [setup] RAM Tracking...\n",
      "[codecarbon INFO @ 17:05:04] [setup] CPU Tracking...\n",
      "[codecarbon WARNING @ 17:05:04] No CPU tracking mode found. Falling back on estimation based on TDP for CPU. \n",
      " Mac OS and ARM processor detected: Please enable PowerMetrics sudo to measure CPU\n",
      "\n",
      "[codecarbon INFO @ 17:05:04] CPU Model on constant consumption mode: Apple M1\n",
      "[codecarbon WARNING @ 17:05:04] No CPU tracking mode found. Falling back on CPU constant mode.\n",
      "[codecarbon INFO @ 17:05:04] [setup] GPU Tracking...\n",
      "[codecarbon INFO @ 17:05:04] No GPU found.\n",
      "[codecarbon INFO @ 17:05:04] The below tracking methods have been set up:\n",
      "                RAM Tracking Method: RAM power estimation model\n",
      "                CPU Tracking Method: global constant\n",
      "                GPU Tracking Method: Unspecified\n",
      "            \n",
      "[codecarbon INFO @ 17:05:04] >>> Tracker's metadata:\n",
      "[codecarbon INFO @ 17:05:04]   Platform system: macOS-13.5.2-arm64-arm-64bit\n",
      "[codecarbon INFO @ 17:05:04]   Python version: 3.10.18\n",
      "[codecarbon INFO @ 17:05:04]   CodeCarbon version: 3.0.4\n",
      "[codecarbon INFO @ 17:05:04]   Available RAM : 16.000 GB\n",
      "[codecarbon INFO @ 17:05:04]   CPU count: 8 thread(s) in 1 physical CPU(s)\n",
      "[codecarbon INFO @ 17:05:04]   CPU model: Apple M1\n",
      "[codecarbon INFO @ 17:05:04]   GPU count: None\n",
      "[codecarbon INFO @ 17:05:04]   GPU model: None\n",
      "[codecarbon INFO @ 17:05:04] Emissions data (if any) will be saved to file /Users/drewmacl/Documents/U Chicago/Summer_2025/Machine Learning Operations/GitHub/Homework/Homework 2/emissions.csv\n",
      "[codecarbon INFO @ 17:05:08] Energy consumed for RAM : 0.000003 kWh. RAM Power : 3.0 W\n",
      "[codecarbon INFO @ 17:05:08] Delta energy consumed for CPU with constant : 0.000006 kWh, power : 5.0 W\n",
      "[codecarbon INFO @ 17:05:08] Energy consumed for All CPU : 0.000006 kWh\n",
      "[codecarbon INFO @ 17:05:08] 0.000009 kWh of electricity used since the beginning.\n"
     ]
    },
    {
     "name": "stdout",
     "output_type": "stream",
     "text": [
      "MSE: 9.1734\n",
      "MAE: 1.9461\n",
      "R²:  0.9999\n"
     ]
    },
    {
     "data": {
      "text/html": [],
      "text/plain": [
       "<IPython.core.display.HTML object>"
      ]
     },
     "metadata": {},
     "output_type": "display_data"
    },
    {
     "data": {
      "text/html": [
       "<br>    <style><br>        .wandb-row {<br>            display: flex;<br>            flex-direction: row;<br>            flex-wrap: wrap;<br>            justify-content: flex-start;<br>            width: 100%;<br>        }<br>        .wandb-col {<br>            display: flex;<br>            flex-direction: column;<br>            flex-basis: 100%;<br>            flex: 1;<br>            padding: 10px;<br>        }<br>    </style><br><div class=\"wandb-row\"><div class=\"wandb-col\"><h3>Run history:</h3><br/><table class=\"wandb\"><tr><td>carbon_emissions_kg</td><td>▁</td></tr><tr><td>mae</td><td>▁</td></tr><tr><td>mse</td><td>▁</td></tr><tr><td>r2</td><td>▁</td></tr></table><br/></div><div class=\"wandb-col\"><h3>Run summary:</h3><br/><table class=\"wandb\"><tr><td>carbon_emissions_kg</td><td>0.0</td></tr><tr><td>mae</td><td>1.94614</td></tr><tr><td>mse</td><td>9.1734</td></tr><tr><td>r2</td><td>0.99988</td></tr></table><br/></div></div>"
      ],
      "text/plain": [
       "<IPython.core.display.HTML object>"
      ]
     },
     "metadata": {},
     "output_type": "display_data"
    },
    {
     "data": {
      "text/html": [
       " View run <strong style=\"color:#cdcd00\">catboost_v1_more_columns_hp2</strong> at: <a href='https://wandb.ai/drewmacl-uchicago/hw2-feature-versioning/runs/j0ai89tf' target=\"_blank\">https://wandb.ai/drewmacl-uchicago/hw2-feature-versioning/runs/j0ai89tf</a><br> View project at: <a href='https://wandb.ai/drewmacl-uchicago/hw2-feature-versioning' target=\"_blank\">https://wandb.ai/drewmacl-uchicago/hw2-feature-versioning</a><br>Synced 5 W&B file(s), 0 media file(s), 0 artifact file(s) and 0 other file(s)"
      ],
      "text/plain": [
       "<IPython.core.display.HTML object>"
      ]
     },
     "metadata": {},
     "output_type": "display_data"
    },
    {
     "data": {
      "text/html": [
       "Find logs at: <code>./wandb/run-20250717_170503-j0ai89tf/logs</code>"
      ],
      "text/plain": [
       "<IPython.core.display.HTML object>"
      ]
     },
     "metadata": {},
     "output_type": "display_data"
    },
    {
     "name": "stderr",
     "output_type": "stream",
     "text": [
      "/opt/anaconda3/envs/tf-privacy/lib/python3.10/site-packages/wandb/analytics/sentry.py:258: DeprecationWarning: The `Scope.user` setter is deprecated in favor of `Scope.set_user()`.\n",
      "  self.scope.user = {\"email\": email}\n",
      "/opt/anaconda3/envs/tf-privacy/lib/python3.10/site-packages/wandb/analytics/sentry.py:258: DeprecationWarning: The `Scope.user` setter is deprecated in favor of `Scope.set_user()`.\n",
      "  self.scope.user = {\"email\": email}\n"
     ]
    },
    {
     "data": {
      "text/html": [
       "Tracking run with wandb version 0.21.0"
      ],
      "text/plain": [
       "<IPython.core.display.HTML object>"
      ]
     },
     "metadata": {},
     "output_type": "display_data"
    },
    {
     "data": {
      "text/html": [
       "Run data is saved locally in <code>/Users/drewmacl/Documents/U Chicago/Summer_2025/Machine Learning Operations/GitHub/Homework/Homework 2/wandb/run-20250717_170509-r7fyxpf4</code>"
      ],
      "text/plain": [
       "<IPython.core.display.HTML object>"
      ]
     },
     "metadata": {},
     "output_type": "display_data"
    },
    {
     "data": {
      "text/html": [
       "Syncing run <strong><a href='https://wandb.ai/drewmacl-uchicago/hw2-feature-versioning/runs/r7fyxpf4' target=\"_blank\">catboost_v2_age_height_gender_hp1</a></strong> to <a href='https://wandb.ai/drewmacl-uchicago/hw2-feature-versioning' target=\"_blank\">Weights & Biases</a> (<a href='https://wandb.me/developer-guide' target=\"_blank\">docs</a>)<br>"
      ],
      "text/plain": [
       "<IPython.core.display.HTML object>"
      ]
     },
     "metadata": {},
     "output_type": "display_data"
    },
    {
     "data": {
      "text/html": [
       " View project at <a href='https://wandb.ai/drewmacl-uchicago/hw2-feature-versioning' target=\"_blank\">https://wandb.ai/drewmacl-uchicago/hw2-feature-versioning</a>"
      ],
      "text/plain": [
       "<IPython.core.display.HTML object>"
      ]
     },
     "metadata": {},
     "output_type": "display_data"
    },
    {
     "data": {
      "text/html": [
       " View run at <a href='https://wandb.ai/drewmacl-uchicago/hw2-feature-versioning/runs/r7fyxpf4' target=\"_blank\">https://wandb.ai/drewmacl-uchicago/hw2-feature-versioning/runs/r7fyxpf4</a>"
      ],
      "text/plain": [
       "<IPython.core.display.HTML object>"
      ]
     },
     "metadata": {},
     "output_type": "display_data"
    },
    {
     "name": "stderr",
     "output_type": "stream",
     "text": [
      "[codecarbon WARNING @ 17:05:10] Multiple instances of codecarbon are allowed to run at the same time.\n",
      "[codecarbon WARNING @ 17:05:10] Error while trying to count physical CPUs: [Errno 2] No such file or directory: 'lscpu'. Defaulting to 1.\n",
      "[codecarbon INFO @ 17:05:10] [setup] RAM Tracking...\n",
      "[codecarbon INFO @ 17:05:10] [setup] CPU Tracking...\n",
      "[codecarbon WARNING @ 17:05:10] No CPU tracking mode found. Falling back on estimation based on TDP for CPU. \n",
      " Mac OS and ARM processor detected: Please enable PowerMetrics sudo to measure CPU\n",
      "\n",
      "[codecarbon INFO @ 17:05:10] CPU Model on constant consumption mode: Apple M1\n",
      "[codecarbon WARNING @ 17:05:10] No CPU tracking mode found. Falling back on CPU constant mode.\n",
      "[codecarbon INFO @ 17:05:10] [setup] GPU Tracking...\n",
      "[codecarbon INFO @ 17:05:10] No GPU found.\n",
      "[codecarbon INFO @ 17:05:10] The below tracking methods have been set up:\n",
      "                RAM Tracking Method: RAM power estimation model\n",
      "                CPU Tracking Method: global constant\n",
      "                GPU Tracking Method: Unspecified\n",
      "            \n",
      "[codecarbon INFO @ 17:05:10] >>> Tracker's metadata:\n",
      "[codecarbon INFO @ 17:05:10]   Platform system: macOS-13.5.2-arm64-arm-64bit\n",
      "[codecarbon INFO @ 17:05:10]   Python version: 3.10.18\n",
      "[codecarbon INFO @ 17:05:10]   CodeCarbon version: 3.0.4\n",
      "[codecarbon INFO @ 17:05:10]   Available RAM : 16.000 GB\n",
      "[codecarbon INFO @ 17:05:10]   CPU count: 8 thread(s) in 1 physical CPU(s)\n",
      "[codecarbon INFO @ 17:05:10]   CPU model: Apple M1\n",
      "[codecarbon INFO @ 17:05:10]   GPU count: None\n",
      "[codecarbon INFO @ 17:05:10]   GPU model: None\n",
      "[codecarbon INFO @ 17:05:10] Emissions data (if any) will be saved to file /Users/drewmacl/Documents/U Chicago/Summer_2025/Machine Learning Operations/GitHub/Homework/Homework 2/emissions.csv\n",
      "[codecarbon INFO @ 17:05:10] Energy consumed for RAM : 0.000000 kWh. RAM Power : 3.0 W\n",
      "[codecarbon INFO @ 17:05:10] Delta energy consumed for CPU with constant : 0.000000 kWh, power : 5.0 W\n",
      "[codecarbon INFO @ 17:05:10] Energy consumed for All CPU : 0.000000 kWh\n",
      "[codecarbon INFO @ 17:05:10] 0.000001 kWh of electricity used since the beginning.\n"
     ]
    },
    {
     "name": "stdout",
     "output_type": "stream",
     "text": [
      "MSE: 25759.3896\n",
      "MAE: 124.8895\n",
      "R²:  0.6727\n"
     ]
    },
    {
     "data": {
      "text/html": [],
      "text/plain": [
       "<IPython.core.display.HTML object>"
      ]
     },
     "metadata": {},
     "output_type": "display_data"
    },
    {
     "data": {
      "text/html": [
       "<br>    <style><br>        .wandb-row {<br>            display: flex;<br>            flex-direction: row;<br>            flex-wrap: wrap;<br>            justify-content: flex-start;<br>            width: 100%;<br>        }<br>        .wandb-col {<br>            display: flex;<br>            flex-direction: column;<br>            flex-basis: 100%;<br>            flex: 1;<br>            padding: 10px;<br>        }<br>    </style><br><div class=\"wandb-row\"><div class=\"wandb-col\"><h3>Run history:</h3><br/><table class=\"wandb\"><tr><td>carbon_emissions_kg</td><td>▁</td></tr><tr><td>mae</td><td>▁</td></tr><tr><td>mse</td><td>▁</td></tr><tr><td>r2</td><td>▁</td></tr></table><br/></div><div class=\"wandb-col\"><h3>Run summary:</h3><br/><table class=\"wandb\"><tr><td>carbon_emissions_kg</td><td>0.0</td></tr><tr><td>mae</td><td>124.88946</td></tr><tr><td>mse</td><td>25759.38962</td></tr><tr><td>r2</td><td>0.67269</td></tr></table><br/></div></div>"
      ],
      "text/plain": [
       "<IPython.core.display.HTML object>"
      ]
     },
     "metadata": {},
     "output_type": "display_data"
    },
    {
     "data": {
      "text/html": [
       " View run <strong style=\"color:#cdcd00\">catboost_v2_age_height_gender_hp1</strong> at: <a href='https://wandb.ai/drewmacl-uchicago/hw2-feature-versioning/runs/r7fyxpf4' target=\"_blank\">https://wandb.ai/drewmacl-uchicago/hw2-feature-versioning/runs/r7fyxpf4</a><br> View project at: <a href='https://wandb.ai/drewmacl-uchicago/hw2-feature-versioning' target=\"_blank\">https://wandb.ai/drewmacl-uchicago/hw2-feature-versioning</a><br>Synced 5 W&B file(s), 0 media file(s), 0 artifact file(s) and 0 other file(s)"
      ],
      "text/plain": [
       "<IPython.core.display.HTML object>"
      ]
     },
     "metadata": {},
     "output_type": "display_data"
    },
    {
     "data": {
      "text/html": [
       "Find logs at: <code>./wandb/run-20250717_170509-r7fyxpf4/logs</code>"
      ],
      "text/plain": [
       "<IPython.core.display.HTML object>"
      ]
     },
     "metadata": {},
     "output_type": "display_data"
    },
    {
     "name": "stderr",
     "output_type": "stream",
     "text": [
      "/opt/anaconda3/envs/tf-privacy/lib/python3.10/site-packages/wandb/analytics/sentry.py:258: DeprecationWarning: The `Scope.user` setter is deprecated in favor of `Scope.set_user()`.\n",
      "  self.scope.user = {\"email\": email}\n",
      "/opt/anaconda3/envs/tf-privacy/lib/python3.10/site-packages/wandb/analytics/sentry.py:258: DeprecationWarning: The `Scope.user` setter is deprecated in favor of `Scope.set_user()`.\n",
      "  self.scope.user = {\"email\": email}\n"
     ]
    },
    {
     "data": {
      "text/html": [
       "Tracking run with wandb version 0.21.0"
      ],
      "text/plain": [
       "<IPython.core.display.HTML object>"
      ]
     },
     "metadata": {},
     "output_type": "display_data"
    },
    {
     "data": {
      "text/html": [
       "Run data is saved locally in <code>/Users/drewmacl/Documents/U Chicago/Summer_2025/Machine Learning Operations/GitHub/Homework/Homework 2/wandb/run-20250717_170511-vmis02pt</code>"
      ],
      "text/plain": [
       "<IPython.core.display.HTML object>"
      ]
     },
     "metadata": {},
     "output_type": "display_data"
    },
    {
     "data": {
      "text/html": [
       "Syncing run <strong><a href='https://wandb.ai/drewmacl-uchicago/hw2-feature-versioning/runs/vmis02pt' target=\"_blank\">catboost_v2_age_height_gender_hp2</a></strong> to <a href='https://wandb.ai/drewmacl-uchicago/hw2-feature-versioning' target=\"_blank\">Weights & Biases</a> (<a href='https://wandb.me/developer-guide' target=\"_blank\">docs</a>)<br>"
      ],
      "text/plain": [
       "<IPython.core.display.HTML object>"
      ]
     },
     "metadata": {},
     "output_type": "display_data"
    },
    {
     "data": {
      "text/html": [
       " View project at <a href='https://wandb.ai/drewmacl-uchicago/hw2-feature-versioning' target=\"_blank\">https://wandb.ai/drewmacl-uchicago/hw2-feature-versioning</a>"
      ],
      "text/plain": [
       "<IPython.core.display.HTML object>"
      ]
     },
     "metadata": {},
     "output_type": "display_data"
    },
    {
     "data": {
      "text/html": [
       " View run at <a href='https://wandb.ai/drewmacl-uchicago/hw2-feature-versioning/runs/vmis02pt' target=\"_blank\">https://wandb.ai/drewmacl-uchicago/hw2-feature-versioning/runs/vmis02pt</a>"
      ],
      "text/plain": [
       "<IPython.core.display.HTML object>"
      ]
     },
     "metadata": {},
     "output_type": "display_data"
    },
    {
     "name": "stderr",
     "output_type": "stream",
     "text": [
      "[codecarbon WARNING @ 17:05:11] Multiple instances of codecarbon are allowed to run at the same time.\n",
      "[codecarbon WARNING @ 17:05:11] Error while trying to count physical CPUs: [Errno 2] No such file or directory: 'lscpu'. Defaulting to 1.\n",
      "[codecarbon INFO @ 17:05:11] [setup] RAM Tracking...\n",
      "[codecarbon INFO @ 17:05:11] [setup] CPU Tracking...\n",
      "[codecarbon WARNING @ 17:05:12] No CPU tracking mode found. Falling back on estimation based on TDP for CPU. \n",
      " Mac OS and ARM processor detected: Please enable PowerMetrics sudo to measure CPU\n",
      "\n",
      "[codecarbon INFO @ 17:05:12] CPU Model on constant consumption mode: Apple M1\n",
      "[codecarbon WARNING @ 17:05:12] No CPU tracking mode found. Falling back on CPU constant mode.\n",
      "[codecarbon INFO @ 17:05:12] [setup] GPU Tracking...\n",
      "[codecarbon INFO @ 17:05:12] No GPU found.\n",
      "[codecarbon INFO @ 17:05:12] The below tracking methods have been set up:\n",
      "                RAM Tracking Method: RAM power estimation model\n",
      "                CPU Tracking Method: global constant\n",
      "                GPU Tracking Method: Unspecified\n",
      "            \n",
      "[codecarbon INFO @ 17:05:12] >>> Tracker's metadata:\n",
      "[codecarbon INFO @ 17:05:12]   Platform system: macOS-13.5.2-arm64-arm-64bit\n",
      "[codecarbon INFO @ 17:05:12]   Python version: 3.10.18\n",
      "[codecarbon INFO @ 17:05:12]   CodeCarbon version: 3.0.4\n",
      "[codecarbon INFO @ 17:05:12]   Available RAM : 16.000 GB\n",
      "[codecarbon INFO @ 17:05:12]   CPU count: 8 thread(s) in 1 physical CPU(s)\n",
      "[codecarbon INFO @ 17:05:12]   CPU model: Apple M1\n",
      "[codecarbon INFO @ 17:05:12]   GPU count: None\n",
      "[codecarbon INFO @ 17:05:12]   GPU model: None\n",
      "[codecarbon INFO @ 17:05:12] Emissions data (if any) will be saved to file /Users/drewmacl/Documents/U Chicago/Summer_2025/Machine Learning Operations/GitHub/Homework/Homework 2/emissions.csv\n",
      "[codecarbon INFO @ 17:05:13] Energy consumed for RAM : 0.000001 kWh. RAM Power : 3.0 W\n",
      "[codecarbon INFO @ 17:05:13] Delta energy consumed for CPU with constant : 0.000002 kWh, power : 5.0 W\n",
      "[codecarbon INFO @ 17:05:13] Energy consumed for All CPU : 0.000002 kWh\n",
      "[codecarbon INFO @ 17:05:13] 0.000003 kWh of electricity used since the beginning.\n"
     ]
    },
    {
     "name": "stdout",
     "output_type": "stream",
     "text": [
      "MSE: 25906.6816\n",
      "MAE: 125.0986\n",
      "R²:  0.6708\n"
     ]
    },
    {
     "data": {
      "text/html": [],
      "text/plain": [
       "<IPython.core.display.HTML object>"
      ]
     },
     "metadata": {},
     "output_type": "display_data"
    },
    {
     "data": {
      "text/html": [
       "<br>    <style><br>        .wandb-row {<br>            display: flex;<br>            flex-direction: row;<br>            flex-wrap: wrap;<br>            justify-content: flex-start;<br>            width: 100%;<br>        }<br>        .wandb-col {<br>            display: flex;<br>            flex-direction: column;<br>            flex-basis: 100%;<br>            flex: 1;<br>            padding: 10px;<br>        }<br>    </style><br><div class=\"wandb-row\"><div class=\"wandb-col\"><h3>Run history:</h3><br/><table class=\"wandb\"><tr><td>carbon_emissions_kg</td><td>▁</td></tr><tr><td>mae</td><td>▁</td></tr><tr><td>mse</td><td>▁</td></tr><tr><td>r2</td><td>▁</td></tr></table><br/></div><div class=\"wandb-col\"><h3>Run summary:</h3><br/><table class=\"wandb\"><tr><td>carbon_emissions_kg</td><td>0.0</td></tr><tr><td>mae</td><td>125.0986</td></tr><tr><td>mse</td><td>25906.68155</td></tr><tr><td>r2</td><td>0.67081</td></tr></table><br/></div></div>"
      ],
      "text/plain": [
       "<IPython.core.display.HTML object>"
      ]
     },
     "metadata": {},
     "output_type": "display_data"
    },
    {
     "data": {
      "text/html": [
       " View run <strong style=\"color:#cdcd00\">catboost_v2_age_height_gender_hp2</strong> at: <a href='https://wandb.ai/drewmacl-uchicago/hw2-feature-versioning/runs/vmis02pt' target=\"_blank\">https://wandb.ai/drewmacl-uchicago/hw2-feature-versioning/runs/vmis02pt</a><br> View project at: <a href='https://wandb.ai/drewmacl-uchicago/hw2-feature-versioning' target=\"_blank\">https://wandb.ai/drewmacl-uchicago/hw2-feature-versioning</a><br>Synced 5 W&B file(s), 0 media file(s), 0 artifact file(s) and 0 other file(s)"
      ],
      "text/plain": [
       "<IPython.core.display.HTML object>"
      ]
     },
     "metadata": {},
     "output_type": "display_data"
    },
    {
     "data": {
      "text/html": [
       "Find logs at: <code>./wandb/run-20250717_170511-vmis02pt/logs</code>"
      ],
      "text/plain": [
       "<IPython.core.display.HTML object>"
      ]
     },
     "metadata": {},
     "output_type": "display_data"
    }
   ],
   "source": [
    "# 4 DIFFERENT RUNS WITH DIFFERENT DATA VERSIONS AND HYPER PARAMETERS\n",
    "\n",
    "for version_name, df in feature_versions.items():\n",
    "    for i, params in enumerate(param_sets):\n",
    "        run = wandb.init(\n",
    "            project=\"hw2-feature-versioning\",\n",
    "            name=f\"catboost_{version_name}_hp{i+1}\",\n",
    "            config={\n",
    "                \"features_version\": version_name,\n",
    "                **params\n",
    "            }\n",
    "        )\n",
    "\n",
    "        tracker = EmissionsTracker()\n",
    "        tracker.start()\n",
    "        \n",
    "        pipe = FullCatBoostPipeline(\n",
    "            catboost_params=params\n",
    "        )\n",
    "\n",
    "        pipe.fit(df)\n",
    "\n",
    "        emissions_data = tracker.stop()\n",
    "        # Log evaluation metrics\n",
    "        wandb.log({\n",
    "            \"mse\": mean_squared_error(pipe.y_test, pipe.y_pred),\n",
    "            \"mae\": mean_absolute_error(pipe.y_test, pipe.y_pred),\n",
    "            \"r2\": r2_score(pipe.y_test, pipe.y_pred),\n",
    "            \"carbon_emissions_kg\": emissions_data \n",
    "        })\n",
    "        run.finish()"
   ]
  },
  {
   "cell_type": "code",
   "execution_count": null,
   "id": "97e51d52-6480-4efe-83d4-42f815abf974",
   "metadata": {},
   "outputs": [],
   "source": []
  }
 ],
 "metadata": {
  "kernelspec": {
   "display_name": "Python 3 (ipykernel)",
   "language": "python",
   "name": "python3"
  },
  "language_info": {
   "codemirror_mode": {
    "name": "ipython",
    "version": 3
   },
   "file_extension": ".py",
   "mimetype": "text/x-python",
   "name": "python",
   "nbconvert_exporter": "python",
   "pygments_lexer": "ipython3",
   "version": "3.10.18"
  }
 },
 "nbformat": 4,
 "nbformat_minor": 5
}
