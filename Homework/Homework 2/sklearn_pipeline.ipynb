{
 "cells": [
  {
   "cell_type": "code",
   "execution_count": 1,
   "metadata": {},
   "outputs": [
    {
     "data": {
      "text/plain": [
       "instant         int64\n",
       "dteday         object\n",
       "season          int64\n",
       "yr              int64\n",
       "mnth            int64\n",
       "holiday         int64\n",
       "weekday         int64\n",
       "workingday      int64\n",
       "weathersit      int64\n",
       "temp          float64\n",
       "atemp         float64\n",
       "hum           float64\n",
       "windspeed     float64\n",
       "rentals         int64\n",
       "dtype: object"
      ]
     },
     "execution_count": 1,
     "metadata": {},
     "output_type": "execute_result"
    }
   ],
   "source": [
    "import pandas as pd\n",
    "import numpy as np\n",
    "\n",
    "data = pd.read_csv(\"https://raw.githubusercontent.com/MicrosoftDocs/ml-basics/master/data/daily-bike-share.csv\")\n",
    "\n",
    "data.dtypes"
   ]
  },
  {
   "cell_type": "code",
   "execution_count": 2,
   "metadata": {},
   "outputs": [
    {
     "data": {
      "text/plain": [
       "instant       0\n",
       "dteday        0\n",
       "season        0\n",
       "yr            0\n",
       "mnth          0\n",
       "holiday       0\n",
       "weekday       0\n",
       "workingday    0\n",
       "weathersit    0\n",
       "temp          0\n",
       "atemp         0\n",
       "hum           0\n",
       "windspeed     0\n",
       "rentals       0\n",
       "dtype: int64"
      ]
     },
     "execution_count": 2,
     "metadata": {},
     "output_type": "execute_result"
    }
   ],
   "source": [
    "data.isnull().sum()"
   ]
  },
  {
   "cell_type": "code",
   "execution_count": 3,
   "metadata": {},
   "outputs": [],
   "source": [
    "data = data[['season'\n",
    ", 'mnth'\n",
    ", 'holiday'\n",
    ", 'weekday'\n",
    ", 'workingday'\n",
    ", 'weathersit'\n",
    ", 'temp'\n",
    ", 'atemp'\n",
    ", 'hum'\n",
    ", 'windspeed'\n",
    ", 'rentals']]"
   ]
  },
  {
   "cell_type": "code",
   "execution_count": 4,
   "metadata": {},
   "outputs": [],
   "source": [
    "from sklearn.preprocessing import StandardScaler, OrdinalEncoder\n",
    "from sklearn.impute import SimpleImputer\n",
    "from sklearn.compose import ColumnTransformer\n",
    "from sklearn.pipeline import Pipeline"
   ]
  },
  {
   "cell_type": "code",
   "execution_count": 5,
   "metadata": {},
   "outputs": [],
   "source": [
    "numeric_transformer = Pipeline(steps=[\n",
    "       ('imputer', SimpleImputer(strategy='mean'))\n",
    "      ,('scaler', StandardScaler())\n",
    "])\n",
    "\n",
    "categorical_transformer = Pipeline(steps=[\n",
    "       ('imputer', SimpleImputer(strategy='constant'))\n",
    "      ,('encoder', OrdinalEncoder())\n",
    "])\n"
   ]
  },
  {
   "cell_type": "code",
   "execution_count": 6,
   "metadata": {},
   "outputs": [],
   "source": [
    "numeric_features = ['temp', 'atemp', 'hum', 'windspeed']\n",
    "\n",
    "categorical_features = ['season', 'mnth', 'holiday', 'weekday', 'workingday', 'weathersit']\n",
    "\n",
    "preprocessor = ColumnTransformer(\n",
    "   transformers=[\n",
    "    ('numeric', numeric_transformer, numeric_features)\n",
    "   ,('categorical', categorical_transformer, categorical_features)\n",
    "]) \n"
   ]
  },
  {
   "cell_type": "code",
   "execution_count": 7,
   "metadata": {},
   "outputs": [
    {
     "name": "stdout",
     "output_type": "stream",
     "text": [
      "['temp', 'atemp', 'hum', 'windspeed']\n",
      "['season', 'mnth', 'holiday', 'weekday', 'workingday', 'weathersit']\n"
     ]
    }
   ],
   "source": [
    "print(numeric_features)\n",
    "print(categorical_features)"
   ]
  },
  {
   "cell_type": "code",
   "execution_count": 8,
   "metadata": {},
   "outputs": [
    {
     "data": {
      "text/html": [
       "<style>#sk-a3ecc350-4f3f-4741-aaa3-7e529310f777 {color: black;background-color: white;}#sk-a3ecc350-4f3f-4741-aaa3-7e529310f777 pre{padding: 0;}#sk-a3ecc350-4f3f-4741-aaa3-7e529310f777 div.sk-toggleable {background-color: white;}#sk-a3ecc350-4f3f-4741-aaa3-7e529310f777 label.sk-toggleable__label {cursor: pointer;display: block;width: 100%;margin-bottom: 0;padding: 0.2em 0.3em;box-sizing: border-box;text-align: center;}#sk-a3ecc350-4f3f-4741-aaa3-7e529310f777 div.sk-toggleable__content {max-height: 0;max-width: 0;overflow: hidden;text-align: left;background-color: #f0f8ff;}#sk-a3ecc350-4f3f-4741-aaa3-7e529310f777 div.sk-toggleable__content pre {margin: 0.2em;color: black;border-radius: 0.25em;background-color: #f0f8ff;}#sk-a3ecc350-4f3f-4741-aaa3-7e529310f777 input.sk-toggleable__control:checked~div.sk-toggleable__content {max-height: 200px;max-width: 100%;overflow: auto;}#sk-a3ecc350-4f3f-4741-aaa3-7e529310f777 div.sk-estimator input.sk-toggleable__control:checked~label.sk-toggleable__label {background-color: #d4ebff;}#sk-a3ecc350-4f3f-4741-aaa3-7e529310f777 div.sk-label input.sk-toggleable__control:checked~label.sk-toggleable__label {background-color: #d4ebff;}#sk-a3ecc350-4f3f-4741-aaa3-7e529310f777 input.sk-hidden--visually {border: 0;clip: rect(1px 1px 1px 1px);clip: rect(1px, 1px, 1px, 1px);height: 1px;margin: -1px;overflow: hidden;padding: 0;position: absolute;width: 1px;}#sk-a3ecc350-4f3f-4741-aaa3-7e529310f777 div.sk-estimator {font-family: monospace;background-color: #f0f8ff;margin: 0.25em 0.25em;border: 1px dotted black;border-radius: 0.25em;box-sizing: border-box;}#sk-a3ecc350-4f3f-4741-aaa3-7e529310f777 div.sk-estimator:hover {background-color: #d4ebff;}#sk-a3ecc350-4f3f-4741-aaa3-7e529310f777 div.sk-parallel-item::after {content: \"\";width: 100%;border-bottom: 1px solid gray;flex-grow: 1;}#sk-a3ecc350-4f3f-4741-aaa3-7e529310f777 div.sk-label:hover label.sk-toggleable__label {background-color: #d4ebff;}#sk-a3ecc350-4f3f-4741-aaa3-7e529310f777 div.sk-serial::before {content: \"\";position: absolute;border-left: 1px solid gray;box-sizing: border-box;top: 2em;bottom: 0;left: 50%;}#sk-a3ecc350-4f3f-4741-aaa3-7e529310f777 div.sk-serial {display: flex;flex-direction: column;align-items: center;background-color: white;}#sk-a3ecc350-4f3f-4741-aaa3-7e529310f777 div.sk-item {z-index: 1;}#sk-a3ecc350-4f3f-4741-aaa3-7e529310f777 div.sk-parallel {display: flex;align-items: stretch;justify-content: center;background-color: white;}#sk-a3ecc350-4f3f-4741-aaa3-7e529310f777 div.sk-parallel-item {display: flex;flex-direction: column;position: relative;background-color: white;}#sk-a3ecc350-4f3f-4741-aaa3-7e529310f777 div.sk-parallel-item:first-child::after {align-self: flex-end;width: 50%;}#sk-a3ecc350-4f3f-4741-aaa3-7e529310f777 div.sk-parallel-item:last-child::after {align-self: flex-start;width: 50%;}#sk-a3ecc350-4f3f-4741-aaa3-7e529310f777 div.sk-parallel-item:only-child::after {width: 0;}#sk-a3ecc350-4f3f-4741-aaa3-7e529310f777 div.sk-dashed-wrapped {border: 1px dashed gray;margin: 0.2em;box-sizing: border-box;padding-bottom: 0.1em;background-color: white;position: relative;}#sk-a3ecc350-4f3f-4741-aaa3-7e529310f777 div.sk-label label {font-family: monospace;font-weight: bold;background-color: white;display: inline-block;line-height: 1.2em;}#sk-a3ecc350-4f3f-4741-aaa3-7e529310f777 div.sk-label-container {position: relative;z-index: 2;text-align: center;}#sk-a3ecc350-4f3f-4741-aaa3-7e529310f777 div.sk-container {display: inline-block;position: relative;}</style><div id=\"sk-a3ecc350-4f3f-4741-aaa3-7e529310f777\" class\"sk-top-container\"><div class=\"sk-container\"><div class=\"sk-item sk-dashed-wrapped\"><div class=\"sk-label-container\"><div class=\"sk-label sk-toggleable\"><input class=\"sk-toggleable__control sk-hidden--visually\" id=\"e91c9509-cea4-43d0-9386-d4e0b477482e\" type=\"checkbox\" ><label class=\"sk-toggleable__label\" for=\"e91c9509-cea4-43d0-9386-d4e0b477482e\">Pipeline</label><div class=\"sk-toggleable__content\"><pre>Pipeline(steps=[('preprocessor',\n",
       "                 ColumnTransformer(transformers=[('numeric',\n",
       "                                                  Pipeline(steps=[('imputer',\n",
       "                                                                   SimpleImputer()),\n",
       "                                                                  ('scaler',\n",
       "                                                                   StandardScaler())]),\n",
       "                                                  ['temp', 'atemp', 'hum',\n",
       "                                                   'windspeed']),\n",
       "                                                 ('categorical',\n",
       "                                                  Pipeline(steps=[('imputer',\n",
       "                                                                   SimpleImputer(strategy='constant')),\n",
       "                                                                  ('encoder',\n",
       "                                                                   OrdinalEncoder())]),\n",
       "                                                  ['season', 'mnth', 'holiday',\n",
       "                                                   'weekday', 'workingday',\n",
       "                                                   'weathersit'])])),\n",
       "                ('regressor', RandomForestRegressor())])</pre></div></div></div><div class=\"sk-serial\"><div class=\"sk-item sk-dashed-wrapped\"><div class=\"sk-label-container\"><div class=\"sk-label sk-toggleable\"><input class=\"sk-toggleable__control sk-hidden--visually\" id=\"5684b2fc-aad6-400c-8b62-45ad559183bb\" type=\"checkbox\" ><label class=\"sk-toggleable__label\" for=\"5684b2fc-aad6-400c-8b62-45ad559183bb\">preprocessor: ColumnTransformer</label><div class=\"sk-toggleable__content\"><pre>ColumnTransformer(transformers=[('numeric',\n",
       "                                 Pipeline(steps=[('imputer', SimpleImputer()),\n",
       "                                                 ('scaler', StandardScaler())]),\n",
       "                                 ['temp', 'atemp', 'hum', 'windspeed']),\n",
       "                                ('categorical',\n",
       "                                 Pipeline(steps=[('imputer',\n",
       "                                                  SimpleImputer(strategy='constant')),\n",
       "                                                 ('encoder',\n",
       "                                                  OrdinalEncoder())]),\n",
       "                                 ['season', 'mnth', 'holiday', 'weekday',\n",
       "                                  'workingday', 'weathersit'])])</pre></div></div></div><div class=\"sk-parallel\"><div class=\"sk-parallel-item\"><div class=\"sk-item\"><div class=\"sk-label-container\"><div class=\"sk-label sk-toggleable\"><input class=\"sk-toggleable__control sk-hidden--visually\" id=\"41aba44b-3276-4044-ba55-bbf279396451\" type=\"checkbox\" ><label class=\"sk-toggleable__label\" for=\"41aba44b-3276-4044-ba55-bbf279396451\">numeric</label><div class=\"sk-toggleable__content\"><pre>['temp', 'atemp', 'hum', 'windspeed']</pre></div></div></div><div class=\"sk-serial\"><div class=\"sk-item\"><div class=\"sk-serial\"><div class=\"sk-item\"><div class=\"sk-estimator sk-toggleable\"><input class=\"sk-toggleable__control sk-hidden--visually\" id=\"165627a6-23d9-47c6-b1d0-8d49a6ad0bf4\" type=\"checkbox\" ><label class=\"sk-toggleable__label\" for=\"165627a6-23d9-47c6-b1d0-8d49a6ad0bf4\">SimpleImputer</label><div class=\"sk-toggleable__content\"><pre>SimpleImputer()</pre></div></div></div><div class=\"sk-item\"><div class=\"sk-estimator sk-toggleable\"><input class=\"sk-toggleable__control sk-hidden--visually\" id=\"495fcaa9-1c1b-4b61-a811-ddbd0a3f3cd1\" type=\"checkbox\" ><label class=\"sk-toggleable__label\" for=\"495fcaa9-1c1b-4b61-a811-ddbd0a3f3cd1\">StandardScaler</label><div class=\"sk-toggleable__content\"><pre>StandardScaler()</pre></div></div></div></div></div></div></div></div><div class=\"sk-parallel-item\"><div class=\"sk-item\"><div class=\"sk-label-container\"><div class=\"sk-label sk-toggleable\"><input class=\"sk-toggleable__control sk-hidden--visually\" id=\"e51cb170-4427-4124-9dad-dd571b219086\" type=\"checkbox\" ><label class=\"sk-toggleable__label\" for=\"e51cb170-4427-4124-9dad-dd571b219086\">categorical</label><div class=\"sk-toggleable__content\"><pre>['season', 'mnth', 'holiday', 'weekday', 'workingday', 'weathersit']</pre></div></div></div><div class=\"sk-serial\"><div class=\"sk-item\"><div class=\"sk-serial\"><div class=\"sk-item\"><div class=\"sk-estimator sk-toggleable\"><input class=\"sk-toggleable__control sk-hidden--visually\" id=\"0f17617d-6d81-4075-87fd-b9635eb866c3\" type=\"checkbox\" ><label class=\"sk-toggleable__label\" for=\"0f17617d-6d81-4075-87fd-b9635eb866c3\">SimpleImputer</label><div class=\"sk-toggleable__content\"><pre>SimpleImputer(strategy='constant')</pre></div></div></div><div class=\"sk-item\"><div class=\"sk-estimator sk-toggleable\"><input class=\"sk-toggleable__control sk-hidden--visually\" id=\"de46dcf5-f23a-43fe-b1f0-8244872e8e3f\" type=\"checkbox\" ><label class=\"sk-toggleable__label\" for=\"de46dcf5-f23a-43fe-b1f0-8244872e8e3f\">OrdinalEncoder</label><div class=\"sk-toggleable__content\"><pre>OrdinalEncoder()</pre></div></div></div></div></div></div></div></div></div></div><div class=\"sk-item\"><div class=\"sk-estimator sk-toggleable\"><input class=\"sk-toggleable__control sk-hidden--visually\" id=\"154b11ca-3877-4f76-a5c3-4c1acc6a95f5\" type=\"checkbox\" ><label class=\"sk-toggleable__label\" for=\"154b11ca-3877-4f76-a5c3-4c1acc6a95f5\">RandomForestRegressor</label><div class=\"sk-toggleable__content\"><pre>RandomForestRegressor()</pre></div></div></div></div></div></div></div>"
      ],
      "text/plain": [
       "Pipeline(steps=[('preprocessor',\n",
       "                 ColumnTransformer(transformers=[('numeric',\n",
       "                                                  Pipeline(steps=[('imputer',\n",
       "                                                                   SimpleImputer()),\n",
       "                                                                  ('scaler',\n",
       "                                                                   StandardScaler())]),\n",
       "                                                  ['temp', 'atemp', 'hum',\n",
       "                                                   'windspeed']),\n",
       "                                                 ('categorical',\n",
       "                                                  Pipeline(steps=[('imputer',\n",
       "                                                                   SimpleImputer(strategy='constant')),\n",
       "                                                                  ('encoder',\n",
       "                                                                   OrdinalEncoder())]),\n",
       "                                                  ['season', 'mnth', 'holiday',\n",
       "                                                   'weekday', 'workingday',\n",
       "                                                   'weathersit'])])),\n",
       "                ('regressor', RandomForestRegressor())])"
      ]
     },
     "execution_count": 8,
     "metadata": {},
     "output_type": "execute_result"
    }
   ],
   "source": [
    "from sklearn.ensemble import RandomForestRegressor\n",
    "from sklearn import set_config\n",
    "\n",
    "pipeline = Pipeline(steps = [\n",
    "    ('preprocessor', preprocessor), \n",
    "    ('regressor',RandomForestRegressor())\n",
    "])\n",
    "\n",
    "set_config(display=\"diagram\")\n",
    "pipeline"
   ]
  },
  {
   "cell_type": "code",
   "execution_count": 9,
   "metadata": {},
   "outputs": [],
   "source": [
    "from sklearn.model_selection import train_test_split\n",
    "\n",
    "X = data.drop('rentals', axis = 1)\n",
    "y = data['rentals']\n",
    "\n",
    "X_train, X_test, y_train, y_test = train_test_split(X, y, test_size=0.2, random_state=123)"
   ]
  },
  {
   "cell_type": "code",
   "execution_count": 10,
   "metadata": {},
   "outputs": [
    {
     "name": "stdout",
     "output_type": "stream",
     "text": [
      "Pipeline(steps=[('preprocessor',\n",
      "                 ColumnTransformer(transformers=[('numeric',\n",
      "                                                  Pipeline(steps=[('imputer',\n",
      "                                                                   SimpleImputer()),\n",
      "                                                                  ('scaler',\n",
      "                                                                   StandardScaler())]),\n",
      "                                                  ['temp', 'atemp', 'hum',\n",
      "                                                   'windspeed']),\n",
      "                                                 ('categorical',\n",
      "                                                  Pipeline(steps=[('imputer',\n",
      "                                                                   SimpleImputer(strategy='constant')),\n",
      "                                                                  ('encoder',\n",
      "                                                                   OrdinalEncoder())]),\n",
      "                                                  ['season', 'mnth', 'holiday',\n",
      "                                                   'weekday', 'workingday',\n",
      "                                                   'weathersit'])])),\n",
      "                ('regressor', RandomForestRegressor())])\n"
     ]
    }
   ],
   "source": [
    "rf_model = pipeline.fit(X_train, y_train)\n",
    "print (rf_model)\n"
   ]
  },
  {
   "cell_type": "code",
   "execution_count": 11,
   "metadata": {},
   "outputs": [
    {
     "name": "stdout",
     "output_type": "stream",
     "text": [
      "0.7641520706966082\n"
     ]
    }
   ],
   "source": [
    "from sklearn.metrics import r2_score\n",
    "predictions = rf_model.predict(X_test)\n",
    "\n",
    "print (r2_score(y_test, predictions))"
   ]
  },
  {
   "cell_type": "code",
   "execution_count": 12,
   "metadata": {},
   "outputs": [
    {
     "name": "stdout",
     "output_type": "stream",
     "text": [
      "LogisticRegression(solver='newton-cg')\n",
      "0.41116736948730725\n"
     ]
    },
    {
     "name": "stderr",
     "output_type": "stream",
     "text": [
      "/opt/anaconda3/lib/python3.7/site-packages/sklearn/linear_model/_sag.py:329: ConvergenceWarning: The max_iter was reached which means the coef_ did not converge\n",
      "  \"the coef_ did not converge\", ConvergenceWarning)\n"
     ]
    },
    {
     "name": "stdout",
     "output_type": "stream",
     "text": [
      "LogisticRegression(C=2.0, solver='sag')\n",
      "0.4725279467172786\n",
      "RandomForestRegressor()\n",
      "0.766106351647742\n",
      "RandomForestRegressor(n_estimators=10)\n",
      "0.7459260184155883\n",
      "RandomForestRegressor(max_depth=20)\n",
      "0.7691789686379741\n"
     ]
    }
   ],
   "source": [
    "from sklearn.linear_model import LogisticRegression\n",
    "\n",
    "regressors = [\n",
    "    LogisticRegression(solver='newton-cg'),\n",
    "    LogisticRegression(solver='sag', C=2.0),\n",
    "    RandomForestRegressor(),\n",
    "    RandomForestRegressor(n_estimators=10),\n",
    "    RandomForestRegressor(max_depth=20)\n",
    "]\n",
    "\n",
    "\n",
    "for regressor in regressors:\n",
    "    pipeline = Pipeline(steps = [\n",
    "               ('preprocessor', preprocessor)\n",
    "              ,('regressor',regressor)\n",
    "           ])\n",
    "    model = pipeline.fit(X_train, y_train)\n",
    "    predictions = model.predict(X_test)\n",
    "    print (regressor)\n",
    "    print (r2_score(y_test, predictions))"
   ]
  },
  {
   "cell_type": "code",
   "execution_count": null,
   "metadata": {},
   "outputs": [],
   "source": []
  }
 ],
 "metadata": {
  "kernelspec": {
   "display_name": "Python 3 (ipykernel)",
   "language": "python",
   "name": "python3"
  },
  "language_info": {
   "codemirror_mode": {
    "name": "ipython",
    "version": 3
   },
   "file_extension": ".py",
   "mimetype": "text/x-python",
   "name": "python",
   "nbconvert_exporter": "python",
   "pygments_lexer": "ipython3",
   "version": "3.10.18"
  }
 },
 "nbformat": 4,
 "nbformat_minor": 4
}
